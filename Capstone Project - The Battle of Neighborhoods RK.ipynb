{
    "cells": [
        {
            "cell_type": "markdown",
            "metadata": {
                "collapsed": true
            },
            "source": "# Capstone Project - Where to live in Rotterdam, the greatest city of Holland"
        },
        {
            "cell_type": "markdown",
            "metadata": {},
            "source": "## Introduction"
        },
        {
            "cell_type": "markdown",
            "metadata": {},
            "source": "Relatively few know about the beauty and greatness of Rotterdam. Amsterdam is the capital of Holland, famous under tourists. Foreigners that go to Holland most likely want to visit Amsterdam. As a second best, The Hague is known for being the political centre of Holland. However, relatively few know Rotterdam. A city with hard working people that made sure Rotterdam was rebuild after being bombed in World War 2 and WOW, they did an amazing job. Rotterdam is a very modern city, with its hard working citizens still living in it. Rotterdam is multicultural, has all the facilities you need (and more) and don't forget about the beautiful sightseeing spots all over the city.\n\nMost likely, you now found out that I actually adore Rotterdam. Currently I live in a village nearby Rotterdam, but I'm looking to move and live in the city of Rotterdam. "
        },
        {
            "cell_type": "markdown",
            "metadata": {},
            "source": "## Business Problem"
        },
        {
            "cell_type": "markdown",
            "metadata": {},
            "source": "I always lived close to Rotterdam and know the city by heart. However, when I think about moving there, I actually don't know what the best neighbourhood would be. As I really want to have the full experience, I need all the top venues nearby. However, what would then be the best place to buy or rent a house or apartment? \n\nAs I can't choose the best neighbourhood by heart, I would love to use my new data science skills to determine the best neighbourhood for me!"
        },
        {
            "cell_type": "markdown",
            "metadata": {},
            "source": "## Data Description"
        },
        {
            "cell_type": "markdown",
            "metadata": {},
            "source": "For this project, geographical data of the neighbourhoods in Rotterdam is required. As there are no clear postal codes available for the neighbourhoods, I will go with the name of the neighbourhoods as starting point for my research.\n\nTo extract the neighbourhood names of Rotterdam, I will scrape the following webpage: https://en.wikipedia.org/wiki/Districts_and_neighbourhoods_of_Rotterdam\n\nThis page has information on the neighbourhoods of Rotterdam. To make sure we only use relevant data, we will check if there are neighbourhoods to be excluded from this project. \n\nFirst of all, I notice \"Kop van Zuid; number and map are dated, since 3 March 2010 part of Feijenoord\" - this means we have to drop that one.\n\nSecondly, on the webpage there is a map next to each neighbourhood to see where in Rotterdam this neighbourhood is located. As there are also villages and boroughs that are outside of the city of Rotterdam, but fall under the township of Rotterdam, we have to drop those as well. I don't want to live in a village part of the township of Rotterdam, but really in Rotterdam itself. This means that the following neighbourhoods will be dropped from the data as well:\n\n- Pernis\n- Hoogvliet-Noord\n- Hoogvliet-Zuid\n- Rozenburg\n- Maasvlakte\n- Europoort\n- Botlek\n- Vondelingenplaat\n- Rijnpoort\n- Dorp\n- Strand en Duin\n\nAs I only derive the neighbourhood names from this webpage, I have to use ArcGIS to get the latitude and longitude for these neighbourhoods as well. When having a neighbourhood table complete with name, latitude and longitude, I can explore venues for each neighbourhood with Foursquare API.\n\nFoursquare is a location data provider with information about all manner of venues and events within an area of interest. Such information includes venue names, locations, ratings etc. With the list of neighbourhoods Rotterdam, I will call the Foursquare API to gather information about venues in each neighbourhood. The radius that I will use is set to be 500 meters.\n\nAfter connecting to Foursquare API, I should have a table consisting of the following information:\n\n- Neighbourhood \n- Neighbourhood Latitude \n- Neighbourhood Longitude \n- Venue Name\n- Venue Latitude \n- Venue Longitude \n- Venue Category \n\nBased on all the information for the neighbourhoods in Rotterdam, I can research what would be the best neighbourhood to buy or rent a house. I will cluster the neighbourhoods together based on similar venue categories with K-Means clustering method. With that information, it should be time to start looking for houses!"
        },
        {
            "cell_type": "code",
            "execution_count": null,
            "metadata": {},
            "outputs": [],
            "source": ""
        }
    ],
    "metadata": {
        "kernelspec": {
            "display_name": "Python 3.7",
            "language": "python",
            "name": "python3"
        },
        "language_info": {
            "codemirror_mode": {
                "name": "ipython",
                "version": 3
            },
            "file_extension": ".py",
            "mimetype": "text/x-python",
            "name": "python",
            "nbconvert_exporter": "python",
            "pygments_lexer": "ipython3",
            "version": "3.7.10"
        }
    },
    "nbformat": 4,
    "nbformat_minor": 1
}